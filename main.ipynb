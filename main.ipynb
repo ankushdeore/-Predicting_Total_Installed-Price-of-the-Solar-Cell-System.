{
 "cells": [
  {
   "cell_type": "markdown",
   "metadata": {},
   "source": [
   ]
  },
  {
   "cell_type": "markdown",
   "metadata": {},
   "source": [
    "Importing the required libraries "
   ]
  },
  {
   "cell_type": "code",
   "execution_count": 32,
   "metadata": {
    "_cell_guid": "b1076dfc-b9ad-4769-8c92-a6c4dae69d19",
    "_uuid": "8f2839f25d086af736a60e9eeb907d3b93b6e0e5"
   },
   "outputs": [],
   "source": [
    "import numpy as np #Linear Algebra\n",
    "import pandas as pd #Read csv file\n",
    "import matplotlib.pyplot  as plt\n",
    "from sklearn.model_selection import train_test_split #Split the data for scoring purposes\n",
    "from sklearn.linear_model import Lasso #Lasso algorithm\n",
    "from sklearn.metrics import r2_score, mean_absolute_error #Scoring systems\n",
    "\n",
    "Reading csv file and converting every string value in the file to numbers so that Lasso algorithm understand it.\n",
    "\n",
    "df = pd.read_csv('LBNL_file.csv', low_memory=False) #Read the csv file\n",
    "\n",
    "\n",
    "df.head(10)\n",
    "\n",
    "df.describe(percentiles=(0.1,0.2,0.25,0.5,0.75,0.90),include=None)\n",
    "\n",
    "\n",
    "for column in df.columns:\n",
    "    #Within each column, if there is a string, convert the strings to numbers and map them out to the dataframe\n",
    "    if isinstance(df.iloc[[0]][column][0], str):\n",
    "        unique_values = np.unique(df[column])\n",
    "        d = {unique: index+1 for index, unique in enumerate(unique_values)}\n",
    "        df[column] = df[column].map(d)\n",
    "\n",
    "def plotPerColumnDistribution(df, nGraphShown, nGraphPerRow):\n",
    "    nunique = df.nunique()\n",
    "    df = df[[col for col in df if nunique[col] > 1 and nunique[col] < 50]] # For displaying purposes, pick columns that have between 1 and 50 unique values\n",
    "    nRow, nCol = df.shape\n",
    "    columnNames = list(df)\n",
    "    nGraphRow = (nCol + nGraphPerRow - 1) \n",
    "    plt.figure(num = None, figsize = (6 * nGraphPerRow, 8 * nGraphRow), dpi = 80, facecolor = 'w', edgecolor = 'k')\n",
    "    for i in range(min(nCol, nGraphShown)):\n",
    "        plt.subplot(nGraphRow, nGraphPerRow, i + 1)\n",
    "        columnDf = df.iloc[:, i]\n",
    "        if (not np.issubdtype(type(columnDf.iloc[0]), np.number)):\n",
    "            valueCounts = columnDf.value_counts()\n",
    "            valueCounts.plot.bar()\n",
    "        else:\n",
    "            columnDf.hist()\n",
    "        plt.ylabel('counts')\n",
    "        plt.xticks(rotation = 90)\n",
    "        plt.title(f'{columnNames[i]} (column {i})')\n",
    "    plt.tight_layout(pad = 1.0, w_pad = 1.0, h_pad = 1.0)\n",
    "    plt.show()\n",
    "\n",
    "plotPerColumnDistribution(df, 15, 5)\n",
    "\n",
    "df.shape\n",
    "\n",
    "X and y and split them into train(70% of data) and test(30% of data) \n",
    "\n",
    "#Our y will be the installed price, and our X will be everything but the price\n",
    "X = df.drop('total_installed_price', axis=1)\n",
    "y = df['total_installed_price']\n",
    "\n",
    "#Split the data\n",
    "X_train, X_test, y_train, y_test = train_test_split(X, y, test_size=0.3, random_state=0)\n",
    "\n",
    "Now, we will apply the Lasso algorithm with a 0.1 alpha to our train data, and score our algorithm based on how it does in the test data.\n",
    "\n",
    "#Create our model and get the predictions based on X_test\n",
    "model = Lasso(alpha=0.1).fit(X_train, y_train)\n",
    "predictions = model.predict(X_test)\n",
    "\n",
    "print(mean_absolute_error(y_test, predictions)) #My mean absolute error: 26870.59197623797 \n",
    "print(r2_score(y_test, predictions)) #My r2_score: 0.21133233070095414\n",
    "\n",
    "There is a room for improvement in the algorithm,I will try to use others algorithms also soon."
   ]
  }
 ],
 "metadata": {
  "kernelspec": {
   "display_name": "Python 3 (ipykernel)",
   "language": "python",
   "name": "python3"
  },
  "language_info": {
   "codemirror_mode": {
    "name": "ipython",
    "version": 3
   },
   "file_extension": ".py",
   "mimetype": "text/x-python",
   "name": "python",
   "nbconvert_exporter": "python",
   "pygments_lexer": "ipython3",
   "version": "3.7.9"
  }
 },
 "nbformat": 4,
 "nbformat_minor": 4
}
